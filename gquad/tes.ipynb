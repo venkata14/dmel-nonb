{
 "cells": [
  {
   "cell_type": "code",
   "execution_count": null,
   "metadata": {},
   "outputs": [],
   "source": [
    "import os\n",
    "import numpy as np\n",
    "import pandas as pd\n",
    "import glob"
   ]
  },
  {
   "cell_type": "code",
   "execution_count": null,
   "metadata": {},
   "outputs": [],
   "source": [
    "from Bio import SeqIO\n",
    "\n",
    "# This creates a dictionary of all lengths of all contigs\n",
    "sequence_lengths = {}\n",
    "for seq_record in SeqIO.parse('File.S8.Chang_et_al.fasta', \"fasta\"):\n",
    "    sequence_lengths[seq_record.id] = len(seq_record)\n",
    "\n",
    "sequence_lengths['3R_5']"
   ]
  },
  {
   "cell_type": "code",
   "execution_count": null,
   "metadata": {},
   "outputs": [],
   "source": [
    "# The GFF file used in this analysis\n",
    "gff_file = './File.S9.Chang_et_al.gff.txt'\n",
    "df_tes = pd.read_csv(gff_file, delimiter='\\t')"
   ]
  },
  {
   "cell_type": "code",
   "execution_count": null,
   "metadata": {},
   "outputs": [],
   "source": [
    "df = df_tes.copy()\n",
    "\n",
    "# Reformating the name column into a simple_name column\n",
    "df['simple_name'] = df.apply(lambda x : x['name'].split('\"')[1].split(':')[1],axis=1)\n",
    "df['len'] = df.apply(lambda x : (int(x['end']) - int(x['start'])) ,axis=1)\n",
    "\n",
    "df"
   ]
  },
  {
   "cell_type": "code",
   "execution_count": null,
   "metadata": {},
   "outputs": [],
   "source": [
    "master_dict_tes = {}\n",
    "master_dict_tes_means = {}\n",
    "for n in df_tes.iloc:\n",
    "    name = n['name'].split('\"')[1].split(':')[1]\n",
    "    \n",
    "    contig = n['Contig']\n",
    "    start = n['start']\n",
    "    end =  n['end']\n",
    "\n",
    "    # Filter so that the sequence is atleast 100 long\n",
    "    if (end-start) < 100:\n",
    "        continue\n",
    "\n",
    "    # THIS IS TO REMOVE THE SATELITE REPEATS\n",
    "    if ')n' in name:\n",
    "        continue\n",
    "\n",
    "    fns = glob.glob('R_gquad_results/*/*{}.csv'.format(contig))\n",
    "    for fn in fns:\n",
    "\n",
    "        if name not in master_dict_tes:\n",
    "            master_dict_tes[name] = np.zeros((int(end-start),))\n",
    "            master_dict_tes_means[name] = []\n",
    "        \n",
    "            \n",
    "        arr = master_dict_tes[name].copy()\n",
    "\n",
    "        df = pd.read_csv(fn)\n",
    "        if len(df[df['sequence_position'] == '-']) >= 1:\n",
    "            continue\n",
    "        df = df[df['sequence_position'] >= start ]\n",
    "        df = df[df['sequence_position'] <= end ]\n",
    "\n",
    "        try:\n",
    "\n",
    "            for s_pos, s_len, s_lik in zip(df['sequence_position'], df['sequence_length'], df['likeliness']):\n",
    "                if s_lik == '*':\n",
    "                    num = 1\n",
    "                elif s_lik == '**':\n",
    "                    num = 2\n",
    "                elif s_lik == '***':\n",
    "                    num = 3\n",
    "                \n",
    "                s_start = s_pos - start # Puts it in the range of arr\n",
    "                arr[int(s_start): (int(s_start) + int(s_len) + 1)] += num\n",
    "                \n",
    "        except:\n",
    "\n",
    "            for s_pos, s_len in zip(df['sequence_position'], df['sequence_length']):\n",
    "                num = 2\n",
    "                \n",
    "                s_start = s_pos - start\n",
    "                arr[int(s_start): (int(s_start) + int(s_len) + 1)] += num\n",
    "        \n",
    "        # Debug\n",
    "        master_dict_tes[name] = np.maximum(master_dict_tes[name], arr.copy()).copy()\n",
    "    \n",
    "    # Record the mean\n",
    "    master_dict_tes_means[name].append(master_dict_tes[name].mean())\n",
    "    # Clear the array to get new mean\n",
    "    master_dict_tes[name] = np.zeros((int(end-start),))"
   ]
  },
  {
   "cell_type": "code",
   "execution_count": null,
   "metadata": {},
   "outputs": [],
   "source": [
    "master_te_total_averages = []\n",
    "\n",
    "for key, value in master_dict_tes_means.items():\n",
    "    item_to_add = (key, np.mean(master_dict_tes_means[key]))\n",
    "    master_te_total_averages.append(item_to_add)\n"
   ]
  },
  {
   "cell_type": "code",
   "execution_count": null,
   "metadata": {},
   "outputs": [],
   "source": [
    "master_te_total_averages = sorted(master_te_total_averages, key=lambda x: x[1], reverse=True)"
   ]
  },
  {
   "cell_type": "markdown",
   "metadata": {},
   "source": [
    "The final DataFrame"
   ]
  },
  {
   "cell_type": "code",
   "execution_count": null,
   "metadata": {},
   "outputs": [],
   "source": [
    "total_te_df = pd.DataFrame(master_te_total_averages)\n",
    "total_te_df.to_csv('tes_averages_ranked.csv')\n",
    "total_te_df"
   ]
  }
 ],
 "metadata": {
  "interpreter": {
   "hash": "9fb27f246a974b07d903088cb2226249d01ae4c707c3503890a928204029e034"
  },
  "kernelspec": {
   "display_name": "Python 3.9.4 64-bit",
   "name": "python3"
  },
  "language_info": {
   "codemirror_mode": {
    "name": "ipython",
    "version": 3
   },
   "file_extension": ".py",
   "mimetype": "text/x-python",
   "name": "python",
   "nbconvert_exporter": "python",
   "pygments_lexer": "ipython3",
   "version": "3.9.4"
  },
  "orig_nbformat": 4
 },
 "nbformat": 4,
 "nbformat_minor": 2
}

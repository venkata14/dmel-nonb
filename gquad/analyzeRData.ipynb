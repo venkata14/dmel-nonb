{
 "cells": [
  {
   "cell_type": "code",
   "execution_count": null,
   "metadata": {},
   "outputs": [],
   "source": [
    "import os\n",
    "import numpy as np\n",
    "import pandas as pd\n",
    "import matplotlib.pyplot as plt\n",
    "\n",
    "%matplotlib inline"
   ]
  },
  {
   "cell_type": "code",
   "execution_count": null,
   "metadata": {},
   "outputs": [],
   "source": [
    "def convertOutput(file):\n",
    "    \"\"\"The Output of gquad (the r package) is very weird, so this function converts that output to a semi readable format. More work needs to be done\"\"\"\n",
    "    df = pd.read_csv(file)\n",
    "    arr = df.to_numpy()\n",
    "    shape = arr.shape\n",
    "    arr = arr.reshape((-1, int(shape[0]/3)))\n",
    "    return pd.DataFrame(arr).swapaxes('columns', 'rows')"
   ]
  },
  {
   "cell_type": "code",
   "execution_count": null,
   "metadata": {},
   "outputs": [],
   "source": [
    "def avg_non_b_dna_ipd_one_file(nbdna_filename, ipd_filename, likeliness, length=300):\n",
    "    ipd_df = pd.read_csv(ipd_filename)\n",
    "    ipd_df = ipd_df[ipd_df['strand'] == 0]\n",
    "    nbdna_df = pd.read_csv(nbdna_filename)\n",
    "    nbdna_df = nbdna_df[nbdna_df['likeliness'] == likeliness]\n",
    "    master_arr = 'None'\n",
    "    for seq_pos, seq_len in zip(nbdna_df['sequence_position'], nbdna_df['sequence_length']):\n",
    "        if master_arr is 'None': # '==' works too\n",
    "            master_arr = np.array([ipd_df[ipd_df['tpl'] >= (seq_pos - ((length - seq_len) / 2))].head(length)['ipdRatio'].values])\n",
    "        else:\n",
    "            master_arr = np.append(\n",
    "                master_arr,\n",
    "                np.array([ipd_df[ipd_df['tpl'] >= (seq_pos - ((length - seq_len) / 2))].head(length)['ipdRatio'].values]),\n",
    "                axis=0\n",
    "            )\n",
    "    \n",
    "    # Plot some of them\n",
    "    for c, n in enumerate(master_arr):\n",
    "        plt.plot(n)\n",
    "        plt.show()\n",
    "        if c > 10:\n",
    "            break\n",
    "    return master_arr.mean(axis=0)\n",
    "\n",
    "def avg_non_b_dna_ipd(ipd_dir, nbdna_dir, likeliness, length=300):\n",
    "    master_arr = 'None'\n",
    "    for n in os.listdir(nbdna_dir):\n",
    "        # Getting file names\n",
    "        if '.csv' in n:\n",
    "            nbdna_filename = os.path.join(nbdna_dir, n)\n",
    "        else:\n",
    "            continue\n",
    "        ipd_filename = os.path.join(ipd_dir, '_'.join(os.path.basename(nbdna_filename).split('.')[0].split('_')[1:]) + '.bam.ipd')\n",
    "\n",
    "        # Debug Purposes. Remove\n",
    "        if '2' in n:\n",
    "            continue\n",
    "        if '_1' in n:\n",
    "            continue\n",
    "\n",
    "\n",
    "        cont = False\n",
    "        # Making sure its not empty file\n",
    "        with open(nbdna_filename, 'r') as f:\n",
    "            counter = 0\n",
    "            for n in f.readlines():\n",
    "                if '-' in n:\n",
    "                    cont = True\n",
    "                    break\n",
    "                if counter >= 3:\n",
    "                    cont = False\n",
    "                    break\n",
    "        \n",
    "        if cont:\n",
    "            continue\n",
    "\n",
    "        # Getting IPDs\n",
    "        nbdna_df = pd.read_csv(nbdna_filename)\n",
    "        nbdna_df = nbdna_df[nbdna_df['likeliness'] == likeliness]\n",
    "        ipd_df = pd.read_csv(ipd_filename)\n",
    "        ipd_df = ipd_df[ipd_df['strand'] == 0]\n",
    "\n",
    "        for seq_pos, seq_len in zip(nbdna_df['sequence_position'], nbdna_df['sequence_length']):\n",
    "            if master_arr is 'None': # '==' works too\\\n",
    "                values = ipd_df[ipd_df['tpl'] >= (seq_pos - ((length - seq_len) / 2))].head(length)['ipdRatio'].values\n",
    "                if values.__len__() == length:\n",
    "                    master_arr = np.array([values])\n",
    "            else:\n",
    "                values = ipd_df[ipd_df['tpl'] >= (seq_pos - ((length - seq_len) / 2))].head(length)['ipdRatio'].values\n",
    "                if values.__len__() == length:\n",
    "                    master_arr = np.append(\n",
    "                        master_arr,\n",
    "                        np.array([values]),\n",
    "                        axis=0\n",
    "                    )\n",
    "    return master_arr.mean(axis=0)"
   ]
  },
  {
   "cell_type": "markdown",
   "metadata": {},
   "source": [
    "## IPD Values from Z-DNA"
   ]
  },
  {
   "cell_type": "code",
   "execution_count": null,
   "metadata": {
    "tags": [
     "outputPrepend"
    ]
   },
   "outputs": [],
   "source": [
    "ipds = avg_non_b_dna_ipd('ipds\\ipd', 'R_gquad_results/zdna', '**', length=300)"
   ]
  },
  {
   "cell_type": "code",
   "execution_count": null,
   "metadata": {},
   "outputs": [],
   "source": [
    "plt.plot(ipds)\n",
    "plt.show()\n",
    "np.savetxt(\"zdna-avg-ipds-300.csv\", ipds, delimiter=\",\")"
   ]
  },
  {
   "cell_type": "code",
   "execution_count": null,
   "metadata": {},
   "outputs": [],
   "source": [
    "ipds = avg_non_b_dna_ipd('ipds\\ipd', 'R_gquad_results\\zdna', '**', length=100)"
   ]
  }
 ],
 "metadata": {
  "interpreter": {
   "hash": "9fb27f246a974b07d903088cb2226249d01ae4c707c3503890a928204029e034"
  },
  "kernelspec": {
   "display_name": "Python 3.9.4 64-bit",
   "name": "python3"
  },
  "language_info": {
   "codemirror_mode": {
    "name": "ipython",
    "version": 3
   },
   "file_extension": ".py",
   "mimetype": "text/x-python",
   "name": "python",
   "nbconvert_exporter": "python",
   "pygments_lexer": "ipython3",
   "version": "3.9.4"
  },
  "orig_nbformat": 2
 },
 "nbformat": 4,
 "nbformat_minor": 2
}
